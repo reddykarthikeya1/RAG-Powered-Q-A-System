{
 "cells": [
  {
   "cell_type": "markdown",
   "id": "70423b05",
   "metadata": {},
   "source": [
    "# RAG-Powered Q&A System Notebook\n",
    "\n",
    "This notebook demonstrates a simple Retrieval-Augmented Generation (RAG)–style question-answering system using open-source tools only. You can run it cell by cell, with no paid APIs or cloud services required.\n",
    "\n",
    "Key steps:\n",
    "1. Define a small knowledge corpus.\n",
    "2. Build a TF-IDF retriever to find relevant passages.\n",
    "3. Use a Hugging Face QA model to answer questions based on retrieved context.\n",
    "\n",
    "---"
   ]
  },
  {
   "cell_type": "markdown",
   "id": "38395be3",
   "metadata": {},
   "source": [
    "## 1. Install dependencies\n",
    "\n",
    "You need `transformers` and `scikit-learn`. Run this cell once:\n"
   ]
  },
  {
   "cell_type": "code",
   "execution_count": 1,
   "id": "6d8a9970",
   "metadata": {},
   "outputs": [
    {
     "name": "stdout",
     "output_type": "stream",
     "text": [
      "Requirement already satisfied: transformers in c:\\users\\reddy\\appdata\\local\\programs\\python\\python311\\lib\\site-packages (4.48.3)\n",
      "Requirement already satisfied: scikit-learn in c:\\users\\reddy\\appdata\\local\\programs\\python\\python311\\lib\\site-packages (1.6.1)\n",
      "Requirement already satisfied: filelock in c:\\users\\reddy\\appdata\\local\\programs\\python\\python311\\lib\\site-packages (from transformers) (3.17.0)\n",
      "Requirement already satisfied: huggingface-hub<1.0,>=0.24.0 in c:\\users\\reddy\\appdata\\local\\programs\\python\\python311\\lib\\site-packages (from transformers) (0.28.1)\n",
      "Requirement already satisfied: numpy>=1.17 in c:\\users\\reddy\\appdata\\local\\programs\\python\\python311\\lib\\site-packages (from transformers) (1.23.5)\n",
      "Requirement already satisfied: packaging>=20.0 in c:\\users\\reddy\\appdata\\local\\programs\\python\\python311\\lib\\site-packages (from transformers) (23.2)\n",
      "Requirement already satisfied: pyyaml>=5.1 in c:\\users\\reddy\\appdata\\local\\programs\\python\\python311\\lib\\site-packages (from transformers) (6.0.2)\n",
      "Requirement already satisfied: regex!=2019.12.17 in c:\\users\\reddy\\appdata\\local\\programs\\python\\python311\\lib\\site-packages (from transformers) (2024.11.6)\n",
      "Requirement already satisfied: requests in c:\\users\\reddy\\appdata\\local\\programs\\python\\python311\\lib\\site-packages (from transformers) (2.32.3)\n",
      "Requirement already satisfied: tokenizers<0.22,>=0.21 in c:\\users\\reddy\\appdata\\local\\programs\\python\\python311\\lib\\site-packages (from transformers) (0.21.0)\n",
      "Requirement already satisfied: safetensors>=0.4.1 in c:\\users\\reddy\\appdata\\local\\programs\\python\\python311\\lib\\site-packages (from transformers) (0.5.2)\n",
      "Requirement already satisfied: tqdm>=4.27 in c:\\users\\reddy\\appdata\\local\\programs\\python\\python311\\lib\\site-packages (from transformers) (4.67.1)\n",
      "Requirement already satisfied: scipy>=1.6.0 in c:\\users\\reddy\\appdata\\local\\programs\\python\\python311\\lib\\site-packages (from scikit-learn) (1.15.2)\n",
      "Requirement already satisfied: joblib>=1.2.0 in c:\\users\\reddy\\appdata\\local\\programs\\python\\python311\\lib\\site-packages (from scikit-learn) (1.4.2)\n",
      "Requirement already satisfied: threadpoolctl>=3.1.0 in c:\\users\\reddy\\appdata\\local\\programs\\python\\python311\\lib\\site-packages (from scikit-learn) (3.6.0)\n",
      "Requirement already satisfied: fsspec>=2023.5.0 in c:\\users\\reddy\\appdata\\local\\programs\\python\\python311\\lib\\site-packages (from huggingface-hub<1.0,>=0.24.0->transformers) (2024.12.0)\n",
      "Requirement already satisfied: typing-extensions>=3.7.4.3 in c:\\users\\reddy\\appdata\\local\\programs\\python\\python311\\lib\\site-packages (from huggingface-hub<1.0,>=0.24.0->transformers) (4.13.2)\n",
      "Requirement already satisfied: colorama in c:\\users\\reddy\\appdata\\roaming\\python\\python311\\site-packages (from tqdm>=4.27->transformers) (0.4.6)\n",
      "Requirement already satisfied: charset-normalizer<4,>=2 in c:\\users\\reddy\\appdata\\local\\programs\\python\\python311\\lib\\site-packages (from requests->transformers) (3.4.1)\n",
      "Requirement already satisfied: idna<4,>=2.5 in c:\\users\\reddy\\appdata\\local\\programs\\python\\python311\\lib\\site-packages (from requests->transformers) (3.10)\n",
      "Requirement already satisfied: urllib3<3,>=1.21.1 in c:\\users\\reddy\\appdata\\local\\programs\\python\\python311\\lib\\site-packages (from requests->transformers) (2.3.0)\n",
      "Requirement already satisfied: certifi>=2017.4.17 in c:\\users\\reddy\\appdata\\local\\programs\\python\\python311\\lib\\site-packages (from requests->transformers) (2024.12.14)\n"
     ]
    },
    {
     "name": "stderr",
     "output_type": "stream",
     "text": [
      "\n",
      "[notice] A new release of pip is available: 24.3.1 -> 25.1.1\n",
      "[notice] To update, run: python.exe -m pip install --upgrade pip\n"
     ]
    }
   ],
   "source": [
    "!pip install transformers scikit-learn"
   ]
  },
  {
   "cell_type": "markdown",
   "id": "af87fffd",
   "metadata": {},
   "source": [
    "## 2. Import libraries\n",
    "\n",
    "Import the necessary Python modules."
   ]
  },
  {
   "cell_type": "code",
   "execution_count": 2,
   "id": "f46c0f41",
   "metadata": {},
   "outputs": [],
   "source": [
    "from sklearn.feature_extraction.text import TfidfVectorizer\n",
    "from sklearn.metrics.pairwise import cosine_similarity\n",
    "from transformers import pipeline\n",
    "import numpy as np"
   ]
  },
  {
   "cell_type": "markdown",
   "id": "4737d6aa",
   "metadata": {},
   "source": [
    "## 3. Define knowledge corpus\n",
    "\n",
    "Here we define a small set of documents for demonstration. Feel free to expand."
   ]
  },
  {
   "cell_type": "code",
   "execution_count": 3,
   "id": "a8a44542",
   "metadata": {},
   "outputs": [],
   "source": [
    "corpus = [\n",
    "    \"The Eiffel Tower is located in Paris and is one of the most famous landmarks in the world.\",\n",
    "    \"The Great Wall of China is more than 13,000 miles long and was built over centuries.\",\n",
    "    \"Python is a popular programming language known for its readability and versatility.\",\n",
    "    \"The Mona Lisa is a famous painting by Leonardo da Vinci housed in the Louvre Museum.\",\n",
    "    \"The Taj Mahal is a white marble mausoleum in Agra, India, built by Mughal emperor Shah Jahan.\"\n",
    "]"
   ]
  },
  {
   "cell_type": "markdown",
   "id": "98eb7506",
   "metadata": {},
   "source": [
    "## 4. Build TF-IDF retriever\n",
    "\n",
    "Vectorize the corpus and prepare for similarity searches.\n"
   ]
  },
  {
   "cell_type": "code",
   "execution_count": 4,
   "id": "febaa91f",
   "metadata": {},
   "outputs": [],
   "source": [
    "vectorizer = TfidfVectorizer()\n",
    "# Compute TF-IDF matrix for the corpus\n",
    "tfidf_matrix = vectorizer.fit_transform(corpus)"
   ]
  },
  {
   "cell_type": "markdown",
   "id": "a8253426",
   "metadata": {},
   "source": [
    "## 5. Retriever function\n",
    "\n",
    "Given a query, compute similar documents using cosine similarity.\n"
   ]
  },
  {
   "cell_type": "code",
   "execution_count": 5,
   "id": "6693aef5",
   "metadata": {},
   "outputs": [
    {
     "name": "stdout",
     "output_type": "stream",
     "text": [
      "['The Eiffel Tower is located in Paris and is one of the most famous landmarks in the world.']\n"
     ]
    }
   ],
   "source": [
    "def retrieve(query, top_k=2):\n",
    "    \"\"\"\n",
    "    Returns the top_k most relevant passages for the query.\n",
    "    \"\"\"\n",
    "    query_vec = vectorizer.transform([query])\n",
    "    # Compute cosine similarities\n",
    "    sims = cosine_similarity(query_vec, tfidf_matrix).flatten()\n",
    "    # Get indices of top_k results\n",
    "    top_indices = np.argsort(sims)[-top_k:][::-1]\n",
    "    return [corpus[i] for i in top_indices]\n",
    "\n",
    "# Example retrieval\n",
    "print(retrieve(\"Where is the Eiffel Tower located?\", top_k=1))\n"
   ]
  },
  {
   "cell_type": "markdown",
   "id": "3ef95ccb",
   "metadata": {},
   "source": [
    "## 6. Load QA model\n",
    "\n",
    "We use a local, free model from Hugging Face: distilbert-base-cased-distilled-squad.\n"
   ]
  },
  {
   "cell_type": "code",
   "execution_count": 6,
   "id": "ede7ef99",
   "metadata": {},
   "outputs": [
    {
     "data": {
      "application/vnd.jupyter.widget-view+json": {
       "model_id": "a143cabe72724946850311b51f72e35a",
       "version_major": 2,
       "version_minor": 0
      },
      "text/plain": [
       "config.json:   0%|          | 0.00/473 [00:00<?, ?B/s]"
      ]
     },
     "metadata": {},
     "output_type": "display_data"
    },
    {
     "name": "stderr",
     "output_type": "stream",
     "text": [
      "c:\\Users\\reddy\\AppData\\Local\\Programs\\Python\\Python311\\Lib\\site-packages\\huggingface_hub\\file_download.py:140: UserWarning: `huggingface_hub` cache-system uses symlinks by default to efficiently store duplicated files but your machine does not support them in C:\\Users\\reddy\\.cache\\huggingface\\hub\\models--distilbert-base-cased-distilled-squad. Caching files will still work but in a degraded version that might require more space on your disk. This warning can be disabled by setting the `HF_HUB_DISABLE_SYMLINKS_WARNING` environment variable. For more details, see https://huggingface.co/docs/huggingface_hub/how-to-cache#limitations.\n",
      "To support symlinks on Windows, you either need to activate Developer Mode or to run Python as an administrator. In order to activate developer mode, see this article: https://docs.microsoft.com/en-us/windows/apps/get-started/enable-your-device-for-development\n",
      "  warnings.warn(message)\n"
     ]
    },
    {
     "data": {
      "application/vnd.jupyter.widget-view+json": {
       "model_id": "958b4eb268174893879b8d88d62c02bf",
       "version_major": 2,
       "version_minor": 0
      },
      "text/plain": [
       "model.safetensors:   0%|          | 0.00/261M [00:00<?, ?B/s]"
      ]
     },
     "metadata": {},
     "output_type": "display_data"
    },
    {
     "data": {
      "application/vnd.jupyter.widget-view+json": {
       "model_id": "a1e523f38e7148a9adc661449bfd4db1",
       "version_major": 2,
       "version_minor": 0
      },
      "text/plain": [
       "tokenizer_config.json:   0%|          | 0.00/49.0 [00:00<?, ?B/s]"
      ]
     },
     "metadata": {},
     "output_type": "display_data"
    },
    {
     "data": {
      "application/vnd.jupyter.widget-view+json": {
       "model_id": "d7eb3354be9d46f79568e44a1519f701",
       "version_major": 2,
       "version_minor": 0
      },
      "text/plain": [
       "vocab.txt:   0%|          | 0.00/213k [00:00<?, ?B/s]"
      ]
     },
     "metadata": {},
     "output_type": "display_data"
    },
    {
     "data": {
      "application/vnd.jupyter.widget-view+json": {
       "model_id": "a049734c9d4943c88e97ce1b72ed2dd1",
       "version_major": 2,
       "version_minor": 0
      },
      "text/plain": [
       "tokenizer.json:   0%|          | 0.00/436k [00:00<?, ?B/s]"
      ]
     },
     "metadata": {},
     "output_type": "display_data"
    },
    {
     "name": "stderr",
     "output_type": "stream",
     "text": [
      "Device set to use cuda:0\n"
     ]
    }
   ],
   "source": [
    "qa_pipeline = pipeline(\n",
    "    \"question-answering\",\n",
    "    model=\"distilbert-base-cased-distilled-squad\",\n",
    "    tokenizer=\"distilbert-base-cased-distilled-squad\"\n",
    ")"
   ]
  },
  {
   "cell_type": "markdown",
   "id": "ed780d78",
   "metadata": {},
   "source": [
    "## 7. Q&A function\n",
    "\n",
    "Combine retrieval with the QA model.\n"
   ]
  },
  {
   "cell_type": "code",
   "execution_count": 7,
   "id": "923c9782",
   "metadata": {},
   "outputs": [
    {
     "name": "stderr",
     "output_type": "stream",
     "text": [
      "c:\\Users\\reddy\\AppData\\Local\\Programs\\Python\\Python311\\Lib\\site-packages\\transformers\\pipelines\\question_answering.py:391: FutureWarning: Passing a list of SQuAD examples to the pipeline is deprecated and will be removed in v5. Inputs should be passed using the `question` and `context` keyword arguments instead.\n",
      "  warnings.warn(\n"
     ]
    },
    {
     "name": "stdout",
     "output_type": "stream",
     "text": [
      "Answer: Mughal emperor Shah Jahan\n",
      "Context used: ['The Taj Mahal is a white marble mausoleum in Agra, India, built by Mughal emperor Shah Jahan.', 'The Great Wall of China is more than 13,000 miles long and was built over centuries.']\n"
     ]
    }
   ],
   "source": [
    "def answer_question(question, top_k=2):\n",
    "    # Retrieve relevant context\n",
    "    contexts = retrieve(question, top_k=top_k)\n",
    "    combined = \" \".join(contexts)\n",
    "    # Run QA pipeline\n",
    "    result = qa_pipeline({\n",
    "        \"question\": question,\n",
    "        \"context\": combined\n",
    "    })\n",
    "    return result[\"answer\"], contexts\n",
    "\n",
    "# Example QA\n",
    "ans, ctx = answer_question(\"Who built the Taj Mahal?\")\n",
    "print(f\"Answer: {ans}\\nContext used: {ctx}\")"
   ]
  },
  {
   "cell_type": "markdown",
   "id": "4aed6211",
   "metadata": {},
   "source": [
    "## 8. Try your own questions\n",
    "\n",
    "Run this cell and replace the text with your own questions.\n"
   ]
  },
  {
   "cell_type": "code",
   "execution_count": 8,
   "id": "cc573e9d",
   "metadata": {},
   "outputs": [
    {
     "name": "stdout",
     "output_type": "stream",
     "text": [
      "Question: What programming language is known for readability?\n",
      "Answer: Python\n",
      "Context: ['Python is a popular programming language known for its readability and versatility.', 'The Eiffel Tower is located in Paris and is one of the most famous landmarks in the world.']\n"
     ]
    }
   ],
   "source": [
    "question = \"What programming language is known for readability?\"\n",
    "answer, used_context = answer_question(question)\n",
    "print(f\"Question: {question}\\nAnswer: {answer}\\nContext: {used_context}\")"
   ]
  },
  {
   "cell_type": "code",
   "execution_count": null,
   "id": "fd16caf6",
   "metadata": {},
   "outputs": [],
   "source": []
  }
 ],
 "metadata": {
  "kernelspec": {
   "display_name": "Python 3",
   "language": "python",
   "name": "python3"
  },
  "language_info": {
   "codemirror_mode": {
    "name": "ipython",
    "version": 3
   },
   "file_extension": ".py",
   "mimetype": "text/x-python",
   "name": "python",
   "nbconvert_exporter": "python",
   "pygments_lexer": "ipython3",
   "version": "3.11.9"
  }
 },
 "nbformat": 4,
 "nbformat_minor": 5
}
